{
 "cells": [
  {
   "cell_type": "markdown",
   "id": "aebd4bd9",
   "metadata": {},
   "source": [
    "# Task 1 Metrics\n",
    "\n",
    "This notebook demonstrates measuring performance on Task 1.\n",
    "\n",
    "Before you can measure performance, you need to *prepare* the metric, by running:\n",
    "\n",
    "    python prepare-metric.py --task1\n",
    "    \n",
    "If preparing for the evaluation queries, use a the `--topics` option to specify an alternate topic file (this will not work until evaluation qrels are released)."
   ]
  },
  {
   "cell_type": "markdown",
   "id": "a47f0c2f",
   "metadata": {},
   "source": [
    "## Setup\n",
    "\n",
    "Let's load some Python modules:"
   ]
  },
  {
   "cell_type": "code",
   "execution_count": 1,
   "id": "ef7772c4",
   "metadata": {},
   "outputs": [],
   "source": [
    "import pandas as pd\n",
    "import numpy as np\n",
    "import matplotlib.pyplot as plt\n",
    "import seaborn as sns\n",
    "import gzip\n",
    "import pickle\n",
    "import binpickle"
   ]
  },
  {
   "cell_type": "code",
   "execution_count": 2,
   "id": "831dca47",
   "metadata": {},
   "outputs": [],
   "source": [
    "from tqdm.auto import tqdm\n",
    "tqdm.pandas(leave=False)"
   ]
  },
  {
   "cell_type": "code",
   "execution_count": 3,
   "id": "c419fffe",
   "metadata": {},
   "outputs": [],
   "source": [
    "import metrics"
   ]
  },
  {
   "cell_type": "markdown",
   "id": "3ef0ffb3",
   "metadata": {},
   "source": [
    "## Load Metric\n",
    "\n",
    "We will first load the metric:"
   ]
  },
  {
   "cell_type": "code",
   "execution_count": 4,
   "id": "809bf7b9",
   "metadata": {},
   "outputs": [],
   "source": [
    "t1_metric = binpickle.load('task1-train-geo-metric.bpk')"
   ]
  },
  {
   "cell_type": "markdown",
   "id": "f7467643",
   "metadata": {},
   "source": [
    "## Apply the Metric\n",
    "\n",
    "Let's load a run:"
   ]
  },
  {
   "cell_type": "code",
   "execution_count": 5,
   "id": "73ca20da",
   "metadata": {},
   "outputs": [
    {
     "data": {
      "text/html": [
       "<div>\n",
       "<style scoped>\n",
       "    .dataframe tbody tr th:only-of-type {\n",
       "        vertical-align: middle;\n",
       "    }\n",
       "\n",
       "    .dataframe tbody tr th {\n",
       "        vertical-align: top;\n",
       "    }\n",
       "\n",
       "    .dataframe thead th {\n",
       "        text-align: right;\n",
       "    }\n",
       "</style>\n",
       "<table border=\"1\" class=\"dataframe\">\n",
       "  <thead>\n",
       "    <tr style=\"text-align: right;\">\n",
       "      <th></th>\n",
       "      <th>id</th>\n",
       "      <th>page_id</th>\n",
       "    </tr>\n",
       "  </thead>\n",
       "  <tbody>\n",
       "    <tr>\n",
       "      <th>0</th>\n",
       "      <td>1</td>\n",
       "      <td>60941630</td>\n",
       "    </tr>\n",
       "    <tr>\n",
       "      <th>1</th>\n",
       "      <td>1</td>\n",
       "      <td>11543117</td>\n",
       "    </tr>\n",
       "    <tr>\n",
       "      <th>2</th>\n",
       "      <td>1</td>\n",
       "      <td>20711732</td>\n",
       "    </tr>\n",
       "    <tr>\n",
       "      <th>3</th>\n",
       "      <td>1</td>\n",
       "      <td>425768</td>\n",
       "    </tr>\n",
       "    <tr>\n",
       "      <th>4</th>\n",
       "      <td>1</td>\n",
       "      <td>39564241</td>\n",
       "    </tr>\n",
       "    <tr>\n",
       "      <th>...</th>\n",
       "      <td>...</td>\n",
       "      <td>...</td>\n",
       "    </tr>\n",
       "    <tr>\n",
       "      <th>56995</th>\n",
       "      <td>57</td>\n",
       "      <td>62843669</td>\n",
       "    </tr>\n",
       "    <tr>\n",
       "      <th>56996</th>\n",
       "      <td>57</td>\n",
       "      <td>13076569</td>\n",
       "    </tr>\n",
       "    <tr>\n",
       "      <th>56997</th>\n",
       "      <td>57</td>\n",
       "      <td>53011798</td>\n",
       "    </tr>\n",
       "    <tr>\n",
       "      <th>56998</th>\n",
       "      <td>57</td>\n",
       "      <td>24922667</td>\n",
       "    </tr>\n",
       "    <tr>\n",
       "      <th>56999</th>\n",
       "      <td>57</td>\n",
       "      <td>41901015</td>\n",
       "    </tr>\n",
       "  </tbody>\n",
       "</table>\n",
       "<p>57000 rows × 2 columns</p>\n",
       "</div>"
      ],
      "text/plain": [
       "       id   page_id\n",
       "0       1  60941630\n",
       "1       1  11543117\n",
       "2       1  20711732\n",
       "3       1    425768\n",
       "4       1  39564241\n",
       "...    ..       ...\n",
       "56995  57  62843669\n",
       "56996  57  13076569\n",
       "56997  57  53011798\n",
       "56998  57  24922667\n",
       "56999  57  41901015\n",
       "\n",
       "[57000 rows x 2 columns]"
      ]
     },
     "execution_count": 5,
     "metadata": {},
     "output_type": "execute_result"
    }
   ],
   "source": [
    "run09 = pd.read_csv('runs/task1-prec09.csv')\n",
    "run09"
   ]
  },
  {
   "cell_type": "markdown",
   "id": "400888b7",
   "metadata": {},
   "source": [
    "Let's score each query with our metric:"
   ]
  },
  {
   "cell_type": "code",
   "execution_count": 6,
   "id": "05c5b331",
   "metadata": {},
   "outputs": [
    {
     "data": {
      "text/html": [
       "<div>\n",
       "<style scoped>\n",
       "    .dataframe tbody tr th:only-of-type {\n",
       "        vertical-align: middle;\n",
       "    }\n",
       "\n",
       "    .dataframe tbody tr th {\n",
       "        vertical-align: top;\n",
       "    }\n",
       "\n",
       "    .dataframe thead th {\n",
       "        text-align: right;\n",
       "    }\n",
       "</style>\n",
       "<table border=\"1\" class=\"dataframe\">\n",
       "  <thead>\n",
       "    <tr style=\"text-align: right;\">\n",
       "      <th></th>\n",
       "      <th>nDCG</th>\n",
       "      <th>AWRF</th>\n",
       "      <th>Score</th>\n",
       "    </tr>\n",
       "    <tr>\n",
       "      <th>id</th>\n",
       "      <th></th>\n",
       "      <th></th>\n",
       "      <th></th>\n",
       "    </tr>\n",
       "  </thead>\n",
       "  <tbody>\n",
       "    <tr>\n",
       "      <th>1</th>\n",
       "      <td>0.900821</td>\n",
       "      <td>0.937818</td>\n",
       "      <td>0.844806</td>\n",
       "    </tr>\n",
       "    <tr>\n",
       "      <th>2</th>\n",
       "      <td>0.882435</td>\n",
       "      <td>0.932821</td>\n",
       "      <td>0.823153</td>\n",
       "    </tr>\n",
       "    <tr>\n",
       "      <th>3</th>\n",
       "      <td>0.898735</td>\n",
       "      <td>0.953165</td>\n",
       "      <td>0.856643</td>\n",
       "    </tr>\n",
       "    <tr>\n",
       "      <th>4</th>\n",
       "      <td>0.905219</td>\n",
       "      <td>0.942668</td>\n",
       "      <td>0.853322</td>\n",
       "    </tr>\n",
       "    <tr>\n",
       "      <th>5</th>\n",
       "      <td>0.902289</td>\n",
       "      <td>0.914825</td>\n",
       "      <td>0.825437</td>\n",
       "    </tr>\n",
       "  </tbody>\n",
       "</table>\n",
       "</div>"
      ],
      "text/plain": [
       "        nDCG      AWRF     Score\n",
       "id                              \n",
       "1   0.900821  0.937818  0.844806\n",
       "2   0.882435  0.932821  0.823153\n",
       "3   0.898735  0.953165  0.856643\n",
       "4   0.905219  0.942668  0.853322\n",
       "5   0.902289  0.914825  0.825437"
      ]
     },
     "execution_count": 6,
     "metadata": {},
     "output_type": "execute_result"
    }
   ],
   "source": [
    "met09 = run09.groupby('id')['page_id'].apply(t1_metric).unstack()\n",
    "met09.head()"
   ]
  },
  {
   "cell_type": "code",
   "execution_count": 7,
   "id": "df317924",
   "metadata": {},
   "outputs": [
    {
     "data": {
      "text/plain": [
       "<matplotlib.axes._subplots.AxesSubplot at 0x2ac8247b190>"
      ]
     },
     "execution_count": 7,
     "metadata": {},
     "output_type": "execute_result"
    },
    {
     "data": {
      "image/png": "[encoded data removed]",
      "text/plain": [
       "<Figure size 432x288 with 1 Axes>"
      ]
     },
     "metadata": {
      "needs_background": "light"
     },
     "output_type": "display_data"
    }
   ],
   "source": [
    "met09.plot.box()"
   ]
  },
  {
   "cell_type": "markdown",
   "id": "86ffb613",
   "metadata": {},
   "source": [
    "Let's plot the utility-fairness tradeoff for our topics:"
   ]
  },
  {
   "cell_type": "code",
   "execution_count": 8,
   "id": "1741c437",
   "metadata": {},
   "outputs": [
    {
     "data": {
      "text/plain": [
       "<seaborn.axisgrid.FacetGrid at 0x2ac82bb22e0>"
      ]
     },
     "execution_count": 8,
     "metadata": {},
     "output_type": "execute_result"
    },
    {
     "data": {
      "image/png": "[encoded data removed]",
      "text/plain": [
       "<Figure size 360x360 with 1 Axes>"
      ]
     },
     "metadata": {
      "needs_background": "light"
     },
     "output_type": "display_data"
    }
   ],
   "source": [
    "sns.relplot(x='nDCG', y='AWRF', data=met09)"
   ]
  },
  {
   "cell_type": "code",
   "execution_count": null,
   "id": "151ea6a0",
   "metadata": {},
   "outputs": [],
   "source": []
  }
 ],
 "metadata": {
  "jupytext": {
   "formats": "ipynb,py:percent"
  },
  "kernelspec": {
   "display_name": "Python 3",
   "language": "python",
   "name": "python3"
  },
  "language_info": {
   "codemirror_mode": {
    "name": "ipython",
    "version": 3
   },
   "file_extension": ".py",
   "mimetype": "text/x-python",
   "name": "python",
   "nbconvert_exporter": "python",
   "pygments_lexer": "ipython3",
   "version": "3.8.8"
  }
 },
 "nbformat": 4,
 "nbformat_minor": 5
}
