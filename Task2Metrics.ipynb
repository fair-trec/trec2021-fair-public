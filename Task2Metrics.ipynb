{
 "cells": [
  {
   "cell_type": "markdown",
   "id": "d9028904",
   "metadata": {},
   "source": [
    "# Task 2 Metrics\n",
    "\n",
    "This notebook demonstrates measuring performance on Task 2.\n",
    "\n",
    "Before you can measure performance, you need to *prepare* the metric, by running:\n",
    "\n",
    "    python prepare-metric.py --task2\n",
    "    \n",
    "If preparing for the evaluation queries, use a the `--topics` option to specify an alternate topic file (this will not work until evaluation qrels are released)."
   ]
  },
  {
   "cell_type": "markdown",
   "id": "1bebcb56",
   "metadata": {},
   "source": [
    "## Setup\n",
    "\n",
    "Let's load some Python modules:"
   ]
  },
  {
   "cell_type": "code",
   "execution_count": 2,
   "id": "65a26205",
   "metadata": {},
   "outputs": [],
   "source": [
    "import pandas as pd\n",
    "import numpy as np\n",
    "import matplotlib.pyplot as plt\n",
    "import seaborn as sns\n",
    "import pickle\n",
    "import gzip"
   ]
  },
  {
   "cell_type": "code",
   "execution_count": 3,
   "id": "73bf416c",
   "metadata": {},
   "outputs": [],
   "source": [
    "from tqdm.auto import tqdm\n",
    "tqdm.pandas(leave=False)"
   ]
  },
  {
   "cell_type": "code",
   "execution_count": 4,
   "id": "93021e68",
   "metadata": {},
   "outputs": [],
   "source": [
    "import metrics"
   ]
  },
  {
   "cell_type": "markdown",
   "id": "3624ae2d",
   "metadata": {},
   "source": [
    "## Load Metric\n",
    "\n",
    "We will load the compiled metric:"
   ]
  },
  {
   "cell_type": "code",
   "execution_count": 5,
   "id": "180db529",
   "metadata": {},
   "outputs": [],
   "source": [
    "with gzip.open('Task2Metric.pkl.gz', 'r') as mpf:\n",
    "    t2_metric = pickle.load(mpf)"
   ]
  },
  {
   "cell_type": "markdown",
   "id": "81808310",
   "metadata": {},
   "source": [
    "## Apply the Metric\n",
    "\n",
    "Let's load a run:"
   ]
  },
  {
   "cell_type": "code",
   "execution_count": 6,
   "id": "328c7335",
   "metadata": {},
   "outputs": [
    {
     "data": {
      "text/html": [
       "<div>\n",
       "<style scoped>\n",
       "    .dataframe tbody tr th:only-of-type {\n",
       "        vertical-align: middle;\n",
       "    }\n",
       "\n",
       "    .dataframe tbody tr th {\n",
       "        vertical-align: top;\n",
       "    }\n",
       "\n",
       "    .dataframe thead th {\n",
       "        text-align: right;\n",
       "    }\n",
       "</style>\n",
       "<table border=\"1\" class=\"dataframe\">\n",
       "  <thead>\n",
       "    <tr style=\"text-align: right;\">\n",
       "      <th></th>\n",
       "      <th>id</th>\n",
       "      <th>rep_number</th>\n",
       "      <th>page_id</th>\n",
       "    </tr>\n",
       "  </thead>\n",
       "  <tbody>\n",
       "    <tr>\n",
       "      <th>0</th>\n",
       "      <td>1</td>\n",
       "      <td>1</td>\n",
       "      <td>43711000</td>\n",
       "    </tr>\n",
       "    <tr>\n",
       "      <th>1</th>\n",
       "      <td>1</td>\n",
       "      <td>1</td>\n",
       "      <td>13832021</td>\n",
       "    </tr>\n",
       "    <tr>\n",
       "      <th>2</th>\n",
       "      <td>1</td>\n",
       "      <td>1</td>\n",
       "      <td>25643451</td>\n",
       "    </tr>\n",
       "    <tr>\n",
       "      <th>3</th>\n",
       "      <td>1</td>\n",
       "      <td>1</td>\n",
       "      <td>364542</td>\n",
       "    </tr>\n",
       "    <tr>\n",
       "      <th>4</th>\n",
       "      <td>1</td>\n",
       "      <td>1</td>\n",
       "      <td>23610014</td>\n",
       "    </tr>\n",
       "    <tr>\n",
       "      <th>...</th>\n",
       "      <td>...</td>\n",
       "      <td>...</td>\n",
       "      <td>...</td>\n",
       "    </tr>\n",
       "    <tr>\n",
       "      <th>284995</th>\n",
       "      <td>57</td>\n",
       "      <td>100</td>\n",
       "      <td>66384676</td>\n",
       "    </tr>\n",
       "    <tr>\n",
       "      <th>284996</th>\n",
       "      <td>57</td>\n",
       "      <td>100</td>\n",
       "      <td>64322599</td>\n",
       "    </tr>\n",
       "    <tr>\n",
       "      <th>284997</th>\n",
       "      <td>57</td>\n",
       "      <td>100</td>\n",
       "      <td>50239948</td>\n",
       "    </tr>\n",
       "    <tr>\n",
       "      <th>284998</th>\n",
       "      <td>57</td>\n",
       "      <td>100</td>\n",
       "      <td>46258652</td>\n",
       "    </tr>\n",
       "    <tr>\n",
       "      <th>284999</th>\n",
       "      <td>57</td>\n",
       "      <td>100</td>\n",
       "      <td>11521320</td>\n",
       "    </tr>\n",
       "  </tbody>\n",
       "</table>\n",
       "<p>285000 rows × 3 columns</p>\n",
       "</div>"
      ],
      "text/plain": [
       "        id  rep_number   page_id\n",
       "0        1           1  43711000\n",
       "1        1           1  13832021\n",
       "2        1           1  25643451\n",
       "3        1           1    364542\n",
       "4        1           1  23610014\n",
       "...     ..         ...       ...\n",
       "284995  57         100  66384676\n",
       "284996  57         100  64322599\n",
       "284997  57         100  50239948\n",
       "284998  57         100  46258652\n",
       "284999  57         100  11521320\n",
       "\n",
       "[285000 rows x 3 columns]"
      ]
     },
     "execution_count": 6,
     "metadata": {},
     "output_type": "execute_result"
    }
   ],
   "source": [
    "run09 = pd.read_csv('runs/task2-prec09.csv')\n",
    "run09"
   ]
  },
  {
   "cell_type": "markdown",
   "id": "1db70462",
   "metadata": {},
   "source": [
    "Let's score each query with our metric:"
   ]
  },
  {
   "cell_type": "code",
   "execution_count": 15,
   "id": "c53616c3",
   "metadata": {},
   "outputs": [
    {
     "data": {
      "application/vnd.jupyter.widget-view+json": {
       "model_id": "",
       "version_major": 2,
       "version_minor": 0
      },
      "text/plain": [
       "  0%|          | 0/57 [00:00<?, ?it/s]"
      ]
     },
     "metadata": {},
     "output_type": "display_data"
    },
    {
     "data": {
      "text/html": [
       "<div>\n",
       "<style scoped>\n",
       "    .dataframe tbody tr th:only-of-type {\n",
       "        vertical-align: middle;\n",
       "    }\n",
       "\n",
       "    .dataframe tbody tr th {\n",
       "        vertical-align: top;\n",
       "    }\n",
       "\n",
       "    .dataframe thead th {\n",
       "        text-align: right;\n",
       "    }\n",
       "</style>\n",
       "<table border=\"1\" class=\"dataframe\">\n",
       "  <thead>\n",
       "    <tr style=\"text-align: right;\">\n",
       "      <th></th>\n",
       "      <th>EE-L</th>\n",
       "      <th>EE-D</th>\n",
       "      <th>EE-R</th>\n",
       "    </tr>\n",
       "    <tr>\n",
       "      <th>id</th>\n",
       "      <th></th>\n",
       "      <th></th>\n",
       "      <th></th>\n",
       "    </tr>\n",
       "  </thead>\n",
       "  <tbody>\n",
       "    <tr>\n",
       "      <th>1</th>\n",
       "      <td>3.460852</td>\n",
       "      <td>68.636377</td>\n",
       "      <td>67.626276</td>\n",
       "    </tr>\n",
       "    <tr>\n",
       "      <th>2</th>\n",
       "      <td>15.857252</td>\n",
       "      <td>55.322051</td>\n",
       "      <td>40.031449</td>\n",
       "    </tr>\n",
       "    <tr>\n",
       "      <th>3</th>\n",
       "      <td>9.098314</td>\n",
       "      <td>40.353097</td>\n",
       "      <td>34.508176</td>\n",
       "    </tr>\n",
       "    <tr>\n",
       "      <th>4</th>\n",
       "      <td>8.329282</td>\n",
       "      <td>43.165847</td>\n",
       "      <td>37.325216</td>\n",
       "    </tr>\n",
       "    <tr>\n",
       "      <th>5</th>\n",
       "      <td>23.873836</td>\n",
       "      <td>87.732324</td>\n",
       "      <td>55.691646</td>\n",
       "    </tr>\n",
       "  </tbody>\n",
       "</table>\n",
       "</div>"
      ],
      "text/plain": [
       "         EE-L       EE-D       EE-R\n",
       "id                                 \n",
       "1    3.460852  68.636377  67.626276\n",
       "2   15.857252  55.322051  40.031449\n",
       "3    9.098314  40.353097  34.508176\n",
       "4    8.329282  43.165847  37.325216\n",
       "5   23.873836  87.732324  55.691646"
      ]
     },
     "execution_count": 15,
     "metadata": {},
     "output_type": "execute_result"
    }
   ],
   "source": [
    "met09 = run09.groupby('id').progress_apply(t2_metric)\n",
    "met09.head()"
   ]
  },
  {
   "cell_type": "code",
   "execution_count": 16,
   "id": "44a9261f",
   "metadata": {},
   "outputs": [
    {
     "data": {
      "text/plain": [
       "<matplotlib.axes._subplots.AxesSubplot at 0x20553261130>"
      ]
     },
     "execution_count": 16,
     "metadata": {},
     "output_type": "execute_result"
    },
    {
     "data": {
      "image/png": "[encoded data removed]",
      "text/plain": [
       "<Figure size 432x288 with 1 Axes>"
      ]
     },
     "metadata": {
      "needs_background": "light"
     },
     "output_type": "display_data"
    }
   ],
   "source": [
    "met09.plot.box()"
   ]
  },
  {
   "cell_type": "markdown",
   "id": "593caa94",
   "metadata": {},
   "source": [
    "Look at the relevance-disparity relationship:"
   ]
  },
  {
   "cell_type": "code",
   "execution_count": 17,
   "id": "ad9bf5cf",
   "metadata": {},
   "outputs": [
    {
     "data": {
      "text/plain": [
       "<seaborn.axisgrid.FacetGrid at 0x205534c5130>"
      ]
     },
     "execution_count": 17,
     "metadata": {},
     "output_type": "execute_result"
    },
    {
     "data": {
      "image/png": "[encoded data removed]",
      "text/plain": [
       "<Figure size 360x360 with 1 Axes>"
      ]
     },
     "metadata": {
      "needs_background": "light"
     },
     "output_type": "display_data"
    }
   ],
   "source": [
    "sns.relplot(x='EE-D', y='EE-R', data=met09)"
   ]
  },
  {
   "cell_type": "code",
   "execution_count": null,
   "id": "20816860",
   "metadata": {},
   "outputs": [],
   "source": []
  }
 ],
 "metadata": {
  "jupytext": {
   "formats": "ipynb,py:percent"
  },
  "kernelspec": {
   "display_name": "Python 3",
   "language": "python",
   "name": "python3"
  },
  "language_info": {
   "codemirror_mode": {
    "name": "ipython",
    "version": 3
   },
   "file_extension": ".py",
   "mimetype": "text/x-python",
   "name": "python",
   "nbconvert_exporter": "python",
   "pygments_lexer": "ipython3",
   "version": "3.8.8"
  }
 },
 "nbformat": 4,
 "nbformat_minor": 5
}
